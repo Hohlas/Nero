{
  "cells": [
    {
      "cell_type": "markdown",
      "metadata": {
        "colab_type": "text",
        "id": "view-in-github"
      },
      "source": [
        "<a href=\"https://colab.research.google.com/github/Hohlas/Nero/blob/main/fx.ipynb\" target=\"_parent\"><img src=\"https://colab.research.google.com/assets/colab-badge.svg\" alt=\"Open In Colab\"/></a>"
      ]
    },
    {
      "cell_type": "code",
      "execution_count": 1,
      "metadata": {
        "colab": {
          "base_uri": "https://localhost:8080/"
        },
        "id": "HjRsPjKuDo81",
        "outputId": "37d29af3-6996-4b1d-d06f-a154348f98eb"
      },
      "outputs": [
        {
          "name": "stdout",
          "output_type": "stream",
          "text": [
            "Collecting mpl_finance\n",
            "  Downloading mpl_finance-0.10.1-py3-none-any.whl (8.4 kB)\n",
            "Requirement already satisfied: matplotlib in /usr/local/lib/python3.10/dist-packages (from mpl_finance) (3.7.1)\n",
            "Requirement already satisfied: contourpy>=1.0.1 in /usr/local/lib/python3.10/dist-packages (from matplotlib->mpl_finance) (1.2.0)\n",
            "Requirement already satisfied: cycler>=0.10 in /usr/local/lib/python3.10/dist-packages (from matplotlib->mpl_finance) (0.12.1)\n",
            "Requirement already satisfied: fonttools>=4.22.0 in /usr/local/lib/python3.10/dist-packages (from matplotlib->mpl_finance) (4.44.3)\n",
            "Requirement already satisfied: kiwisolver>=1.0.1 in /usr/local/lib/python3.10/dist-packages (from matplotlib->mpl_finance) (1.4.5)\n",
            "Requirement already satisfied: numpy>=1.20 in /usr/local/lib/python3.10/dist-packages (from matplotlib->mpl_finance) (1.23.5)\n",
            "Requirement already satisfied: packaging>=20.0 in /usr/local/lib/python3.10/dist-packages (from matplotlib->mpl_finance) (23.2)\n",
            "Requirement already satisfied: pillow>=6.2.0 in /usr/local/lib/python3.10/dist-packages (from matplotlib->mpl_finance) (9.4.0)\n",
            "Requirement already satisfied: pyparsing>=2.3.1 in /usr/local/lib/python3.10/dist-packages (from matplotlib->mpl_finance) (3.1.1)\n",
            "Requirement already satisfied: python-dateutil>=2.7 in /usr/local/lib/python3.10/dist-packages (from matplotlib->mpl_finance) (2.8.2)\n",
            "Requirement already satisfied: six>=1.5 in /usr/local/lib/python3.10/dist-packages (from python-dateutil>=2.7->matplotlib->mpl_finance) (1.16.0)\n",
            "Installing collected packages: mpl_finance\n",
            "Successfully installed mpl_finance-0.10.1\n"
          ]
        }
      ],
      "source": [
        "\n",
        "!pip install mpl_finance\n",
        "import pandas as pd\n",
        "import matplotlib.pyplot as plt\n",
        "import matplotlib.dates as mdates\n",
        "from mpl_finance import candlestick_ohlc"
      ]
    },
    {
      "cell_type": "markdown",
      "metadata": {
        "id": "StVrNfd0IHsU"
      },
      "source": [
        "подключение TPU в Colab"
      ]
    },
    {
      "cell_type": "code",
      "execution_count": 2,
      "metadata": {
        "id": "BcbMdStKH5Di"
      },
      "outputs": [],
      "source": [
        "import tensorflow as tf\n",
        "resolver = tf.distribute.cluster_resolver.TPUClusterResolver()\n",
        "tf.config.experimental_connect_to_cluster(resolver)\n",
        "tf.tpu.experimental.initialize_tpu_system(resolver)\n",
        "strategy = tf.distribute.TPUStrategy(resolver)\n"
      ]
    },
    {
      "cell_type": "code",
      "execution_count": 3,
      "metadata": {
        "id": "FABqzwIEz_TF"
      },
      "outputs": [],
      "source": [
        "# Загрузка данных из файла\n",
        "history_data = 'https://drive.google.com/uc?id=1_eYsMYv8L_rrFrNnVN39ugbSVvC12Mm5'\n",
        "data = pd.read_csv(history_data, header=None, sep=',', names=['date', 'time', 'open', 'high', 'low', 'close', 'volume'])\n",
        "data = data.tail(400) # Выбор последних 100 строк"
      ]
    },
    {
      "cell_type": "markdown",
      "metadata": {
        "id": "YXyz6CM9FxZR"
      },
      "source": []
    },
    {
      "cell_type": "code",
      "execution_count": 43,
      "metadata": {
        "colab": {
          "base_uri": "https://localhost:8080/",
          "height": 293
        },
        "id": "F3FwBYQjv72B",
        "outputId": "1c8bcadd-468f-4d77-c5ce-a52b145c77ab"
      },
      "outputs": [
        {
          "data": {
            "text/plain": [
              "Text(0.5, 1.0, 'High-Low Bar Chart')"
            ]
          },
          "execution_count": 43,
          "metadata": {},
          "output_type": "execute_result"
        },
        {
          "data": {
            "image/png": "[encoded data removed]",
            "text/plain": [
              "<Figure size 2000x500 with 1 Axes>"
            ]
          },
          "metadata": {},
          "output_type": "display_data"
        }
      ],
      "source": [
        "# Выбираем только столбцы 'high' и 'low'\n",
        "data_hl = data[['high', 'low']]\n",
        "fig, ax = plt.subplots()\n",
        "# Строим бары по высоте\n",
        "ax.bar(range(len(data_hl)), data_hl['high'] - data_hl['low'], bottom=data_hl['low'], width=0.3, color='black')\n",
        "fig.set_size_inches(20, 5)# Установка размера окна\n",
        "ax.set_xlabel('Time (index)')\n",
        "ax.set_ylabel('Price')\n",
        "ax.set_title('High-Low Bar Chart')"
      ]
    },
    {
      "cell_type": "markdown",
      "metadata": {
        "id": "dSH3UQob_C_O"
      },
      "source": [
        "Я опытный программист и трейдер. Пишу программы для автоматической торговли на валютном рынке. Мне потребовалось написать торговый робот на базе нейронной сети. Но я никогда не использовал нейронные сети в своих программах и не имею опыта работы с ними. Скажи пожалуйста, какую нейронную сеть лучше использовать для прогнозирования временных рядов, в частности для финансовых рынков форекс. Опиши подробно, но простым языком как нужно взаимодействовать с библиотекой нейронной сети, какие данные подавать на вход, как их подготавливать, что учитывать при обработке входных данных ?\n",
        "\n",
        "\n",
        "---\n",
        "\n",
        "\n",
        "*лучше всего подходят рекуррентные нейронные сети (RNN). Они хорошо работают с последовательными данными и учитывают зависимости между предыдущими и текущими значениями.\n",
        "Конкретнее, рекомендую использовать LSTM (долгая краткосрочная память) - это усовершенствованный вид RNN, который может учиться долгосрочным зависимостям(Keras, PyTorch, TensorFlow). На вход подаём подготовленные последовательности цен, выход - прогноз на следующий шаг. Используем алгоритм обратного распространения ошибки*.\n",
        "\n",
        "\n",
        "---\n",
        "\n",
        "\n",
        "Да, приведи пожалуйста пример кода. В качестве входных данных предлагаю использовать массив из последних 100 значений ценового ряда\n",
        "\n",
        "data_hl = data[['high', 'low']]. Будем считать, что ряд data[['high', 'low']] содержит цены High и Low часового таймфрейма за последние 10 лет. Но мне не требуется прогноз на каждом баре. Лучше определять определенные моменты входа - точки, в которых цена с высокой вероятностью поменяет свое направление. Чтобы соотношение Profit/Loss в этих точках было максимальным. Достаточно, чтобы точки входа формировались в среднем с интервалом 20 - 30 бар."
      ]
    },
    {
      "cell_type": "code",
      "execution_count": 5,
      "metadata": {
        "colab": {
          "base_uri": "https://localhost:8080/"
        },
        "id": "4H-iNv_O_cZE",
        "outputId": "d06dd57a-ae35-4fbb-e4f3-8f5e22389180"
      },
      "outputs": [
        {
          "name": "stdout",
          "output_type": "stream",
          "text": [
            "Epoch 1/100\n",
            "1941/1941 [==============================] - 80s 36ms/step - loss: 0.6152 - val_loss: 0.6151\n",
            "Epoch 2/100\n",
            "1941/1941 [==============================] - 65s 33ms/step - loss: 0.6147 - val_loss: 0.6150\n",
            "Epoch 3/100\n",
            "1941/1941 [==============================] - 65s 33ms/step - loss: 0.6147 - val_loss: 0.6151\n",
            "Epoch 4/100\n",
            "1941/1941 [==============================] - 65s 34ms/step - loss: 0.6146 - val_loss: 0.6149\n",
            "Epoch 5/100\n",
            "1941/1941 [==============================] - 65s 33ms/step - loss: 0.6146 - val_loss: 0.6149\n",
            "Epoch 6/100\n",
            "1941/1941 [==============================] - 70s 36ms/step - loss: 0.6146 - val_loss: 0.6149\n",
            "Epoch 7/100\n",
            "1941/1941 [==============================] - 66s 34ms/step - loss: 0.6146 - val_loss: 0.6149\n",
            "Epoch 8/100\n",
            "1941/1941 [==============================] - 65s 33ms/step - loss: 0.6146 - val_loss: 0.6152\n",
            "Epoch 9/100\n",
            "1941/1941 [==============================] - 66s 34ms/step - loss: 0.6146 - val_loss: 0.6149\n",
            "Epoch 10/100\n",
            "1941/1941 [==============================] - 65s 33ms/step - loss: 0.6146 - val_loss: 0.6149\n",
            "Epoch 11/100\n",
            "1941/1941 [==============================] - 64s 33ms/step - loss: 0.6146 - val_loss: 0.6150\n",
            "Epoch 12/100\n",
            "1941/1941 [==============================] - 65s 33ms/step - loss: 0.6146 - val_loss: 0.6149\n",
            "Epoch 13/100\n",
            "1941/1941 [==============================] - 64s 33ms/step - loss: 0.6146 - val_loss: 0.6149\n",
            "Epoch 14/100\n",
            "1941/1941 [==============================] - 65s 33ms/step - loss: 0.6146 - val_loss: 0.6149\n",
            "Epoch 15/100\n",
            "1941/1941 [==============================] - 66s 34ms/step - loss: 0.6146 - val_loss: 0.6149\n",
            "Epoch 16/100\n",
            "1941/1941 [==============================] - 65s 33ms/step - loss: 0.6146 - val_loss: 0.6149\n",
            "Epoch 17/100\n",
            "1941/1941 [==============================] - 67s 35ms/step - loss: 0.6146 - val_loss: 0.6150\n",
            "Epoch 18/100\n",
            "1941/1941 [==============================] - 68s 35ms/step - loss: 0.6146 - val_loss: 0.6149\n",
            "Epoch 19/100\n",
            "1941/1941 [==============================] - 65s 33ms/step - loss: 0.6146 - val_loss: 0.6149\n",
            "1/1 [==============================] - 3s 3s/step\n"
          ]
        }
      ],
      "source": [
        "import numpy as np\n",
        "import pandas as pd\n",
        "from sklearn.preprocessing import MinMaxScaler\n",
        "from sklearn.model_selection import train_test_split\n",
        "from keras.models import Sequential\n",
        "from keras.layers import LSTM, Dense\n",
        "\n",
        "# Загрузка и normalizация  данных\n",
        "#data = pd.read_csv('data.csv')\n",
        "history_data = 'https://drive.google.com/uc?id=1_eYsMYv8L_rrFrNnVN39ugbSVvC12Mm5'\n",
        "data = pd.read_csv(history_data, header=None, sep=',', names=['date', 'time', 'open', 'high', 'low', 'close', 'volume'])\n",
        "data = data[['high', 'low']]\n",
        "scaler = MinMaxScaler()\n",
        "data_scaled = scaler.fit_transform(data)\n",
        "\n",
        "# Преобразуем данные в последовательности\n",
        "X = [] # набор входных последовательностей\n",
        "y = [] # ответы для обучения\n",
        "seq_size = 100 # кол-во бар для предсказания (анализируем предыдущие 100 цен и предсказываем 101-ю)\n",
        "for i in range(seq_size, len(data_scaled)):\n",
        "  X.append(data_scaled[i-seq_size:i])\n",
        "  y.append(data_scaled[i, 0]) # 0 - индекс изменения направления\n",
        "X, y = np.array(X), np.array(y) # Преобразуем списки в numpy массивы\n",
        "X_train, X_val, y_train, y_val = train_test_split(X, y, test_size=0.2, random_state=42)\n",
        "# X_train, y_train - данные для обучения модели\n",
        "# X_val, y_val - валидационные данные для оценки модели во время обучения\n",
        "# test_size=0.2 означает, что на валидацию мы берем 20% от исходных данных, а на обучение - оставшиеся 80%\n",
        "# random_state фиксирует случайную выборку, чтобы результаты были воспроизводимы\n",
        "\n",
        "# Определяем архитектуру LSTM\n",
        "with strategy.scope():\n",
        "  # создаем модель\n",
        "  model = Sequential()\n",
        "  model.add(LSTM(256, input_shape=(X.shape[1], X.shape[2]), return_sequences=True))\n",
        "  model.add(LSTM(128))\n",
        "  model.add(Dense(1, activation='sigmoid'))\n",
        "  # Компилируем модель\n",
        "  model.compile(optimizer=tf.keras.optimizers.Adam(learning_rate=0.001), loss='binary_crossentropy')\n",
        "  # Обучаем с batchsize=64 (размер группы данных, по которым обновляются веса на каждой итерации). Меньший размер дает точность, больший - скорость обучения\n",
        "  early_stopping = tf.keras.callbacks.EarlyStopping(monitor='val_loss', patience=5, min_delta=0.0001, restore_best_weights=True)\n",
        "  model.fit(X_train, y_train, validation_data=(X_val, y_val), epochs=100, batch_size=64, callbacks=[early_stopping])\n",
        "\n",
        "# Прогноз следующей точки разворота\n",
        "x_new = np.reshape(data_scaled[-seq_size:], (1, seq_size, 2))\n",
        "y_pred = model.predict(x_new)\n",
        "if y_pred > 0.5:\n",
        "   print(\"Predicted reversal point\")\n",
        "# В данном примере метки классов (y) - это флаг изменения направления цены. На выходе LSTM отдает вероятность разворота от 0 до 1, по которой можно отфильтровывать значимые сигналы."
      ]
    },
    {
      "cell_type": "code",
      "execution_count": null,
      "metadata": {
        "id": "SQmxFTT3Iaxu"
      },
      "outputs": [],
      "source": []
    }
  ],
  "metadata": {
    "accelerator": "TPU",
    "colab": {
      "authorship_tag": "ABX9TyNosWu3R1Y+Cp98LvPn+oG7",
      "include_colab_link": true,
      "provenance": []
    },
    "kernelspec": {
      "display_name": "Python 3",
      "name": "python3"
    },
    "language_info": {
      "name": "python"
    }
  },
  "nbformat": 4,
  "nbformat_minor": 0
}
